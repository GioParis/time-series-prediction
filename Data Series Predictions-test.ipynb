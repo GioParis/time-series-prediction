{
 "cells": [
  {
   "cell_type": "code",
   "execution_count": 56,
   "metadata": {},
   "outputs": [],
   "source": [
    "#Import libaries to manipulate data\n",
    "import pandas as pd\n",
    "import numpy as np\n",
    "import matplotlib.pyplot as plt\n",
    "%matplotlib inline\n",
    "\n",
    "# Import statsmodel\n",
    "import statsmodels.api as sm\n",
    "import statsmodels.formula.api as smf\n",
    "from statsmodels.tsa.stattools import adfuller"
   ]
  },
  {
   "cell_type": "code",
   "execution_count": 57,
   "metadata": {},
   "outputs": [
    {
     "data": {
      "text/plain": [
       "152"
      ]
     },
     "execution_count": 57,
     "metadata": {},
     "output_type": "execute_result"
    }
   ],
   "source": [
    "#upload data on a dataframe and rename columns(optional)\n",
    "bd = pd.read_csv('annual-sheep-population.csv', delimiter=\";\")\n",
    "bd.columns=['year', 'Count']\n",
    "\n",
    "#print out the size in order to know how to split test and train dataset\n",
    "bd.size"
   ]
  },
  {
   "cell_type": "code",
   "execution_count": 58,
   "metadata": {},
   "outputs": [
    {
     "data": {
      "text/plain": [
       "30"
      ]
     },
     "execution_count": 58,
     "metadata": {},
     "output_type": "execute_result"
    }
   ],
   "source": [
    "#split the dataset into test and train variables\n",
    "train = bd[0:15]\n",
    "test = bd[15:30]\n",
    "\n",
    "train.size"
   ]
  },
  {
   "cell_type": "code",
   "execution_count": 59,
   "metadata": {
    "collapsed": true
   },
   "outputs": [],
   "source": [
    "#Clean up the dataset by dropping out NaN values\n",
    "test_c = test.dropna()\n",
    "train_c = train.dropna()"
   ]
  },
  {
   "cell_type": "code",
   "execution_count": 60,
   "metadata": {},
   "outputs": [
    {
     "name": "stderr",
     "output_type": "stream",
     "text": [
      "/anaconda3/lib/python3.6/site-packages/pandas/core/generic.py:3110: SettingWithCopyWarning: \n",
      "A value is trying to be set on a copy of a slice from a DataFrame.\n",
      "Try using .loc[row_indexer,col_indexer] = value instead\n",
      "\n",
      "See the caveats in the documentation: http://pandas.pydata.org/pandas-docs/stable/indexing.html#indexing-view-versus-copy\n",
      "  self[name] = value\n"
     ]
    }
   ],
   "source": [
    "#Here I have converted year column in order to have a type to work with on python\n",
    "train.year = pd.DatetimeIndex(train.year)\n",
    "\n",
    "#This is an optional action because for me is important to set the time feature as index\n",
    "train.index = pd.PeriodIndex(train.year, freq='M')"
   ]
  },
  {
   "cell_type": "code",
   "execution_count": 61,
   "metadata": {},
   "outputs": [
    {
     "data": {
      "text/html": [
       "<div>\n",
       "<style>\n",
       "    .dataframe thead tr:only-child th {\n",
       "        text-align: right;\n",
       "    }\n",
       "\n",
       "    .dataframe thead th {\n",
       "        text-align: left;\n",
       "    }\n",
       "\n",
       "    .dataframe tbody tr th {\n",
       "        vertical-align: top;\n",
       "    }\n",
       "</style>\n",
       "<table border=\"1\" class=\"dataframe\">\n",
       "  <thead>\n",
       "    <tr style=\"text-align: right;\">\n",
       "      <th></th>\n",
       "      <th>year</th>\n",
       "      <th>Count</th>\n",
       "    </tr>\n",
       "    <tr>\n",
       "      <th>year</th>\n",
       "      <th></th>\n",
       "      <th></th>\n",
       "    </tr>\n",
       "  </thead>\n",
       "  <tbody>\n",
       "    <tr>\n",
       "      <th>1867-01</th>\n",
       "      <td>1867-01-01</td>\n",
       "      <td>2203.0</td>\n",
       "    </tr>\n",
       "    <tr>\n",
       "      <th>1868-01</th>\n",
       "      <td>1868-01-01</td>\n",
       "      <td>2360.0</td>\n",
       "    </tr>\n",
       "    <tr>\n",
       "      <th>1869-01</th>\n",
       "      <td>1869-01-01</td>\n",
       "      <td>2254.0</td>\n",
       "    </tr>\n",
       "    <tr>\n",
       "      <th>1870-01</th>\n",
       "      <td>1870-01-01</td>\n",
       "      <td>2165.0</td>\n",
       "    </tr>\n",
       "    <tr>\n",
       "      <th>1871-01</th>\n",
       "      <td>1871-01-01</td>\n",
       "      <td>2024.0</td>\n",
       "    </tr>\n",
       "  </tbody>\n",
       "</table>\n",
       "</div>"
      ],
      "text/plain": [
       "              year   Count\n",
       "year                      \n",
       "1867-01 1867-01-01  2203.0\n",
       "1868-01 1868-01-01  2360.0\n",
       "1869-01 1869-01-01  2254.0\n",
       "1870-01 1870-01-01  2165.0\n",
       "1871-01 1871-01-01  2024.0"
      ]
     },
     "execution_count": 61,
     "metadata": {},
     "output_type": "execute_result"
    }
   ],
   "source": [
    "#sort out by date\n",
    "train_v = train.sort_values(by=\"year\")\n",
    "\n",
    "#print out the dataset head\n",
    "train_v.head()"
   ]
  },
  {
   "cell_type": "code",
   "execution_count": 63,
   "metadata": {},
   "outputs": [
    {
     "data": {
      "text/plain": [
       "<matplotlib.axes._subplots.AxesSubplot at 0x1c15eb2eb8>"
      ]
     },
     "execution_count": 63,
     "metadata": {},
     "output_type": "execute_result"
    },
    {
     "data": {
      "image/png": "[encoded data removed]",
      "text/plain": [
       "<matplotlib.figure.Figure at 0x1c1603e780>"
      ]
     },
     "metadata": {},
     "output_type": "display_data"
    }
   ],
   "source": [
    "#Let's plot out the count feature over the time\n",
    "train_v.Count.plot()"
   ]
  },
  {
   "cell_type": "code",
   "execution_count": 64,
   "metadata": {},
   "outputs": [
    {
     "data": {
      "text/plain": [
       "<matplotlib.axes._subplots.AxesSubplot at 0x1c16246a90>"
      ]
     },
     "execution_count": 64,
     "metadata": {},
     "output_type": "execute_result"
    },
    {
     "data": {
      "image/png": "[encoded data removed]",
      "text/plain": [
       "<matplotlib.figure.Figure at 0x1c1599a630>"
      ]
     },
     "metadata": {},
     "output_type": "display_data"
    }
   ],
   "source": [
    "#Here's another way to describe your dataset. The histogram is useful to understand the recurrent values\n",
    "train_v.Count.plot(kind=\"hist\", bins=15, title = \"Test\")"
   ]
  },
  {
   "cell_type": "code",
   "execution_count": 65,
   "metadata": {},
   "outputs": [
    {
     "data": {
      "text/html": [
       "<div>\n",
       "<style>\n",
       "    .dataframe thead tr:only-child th {\n",
       "        text-align: right;\n",
       "    }\n",
       "\n",
       "    .dataframe thead th {\n",
       "        text-align: left;\n",
       "    }\n",
       "\n",
       "    .dataframe tbody tr th {\n",
       "        vertical-align: top;\n",
       "    }\n",
       "</style>\n",
       "<table border=\"1\" class=\"dataframe\">\n",
       "  <thead>\n",
       "    <tr style=\"text-align: right;\">\n",
       "      <th></th>\n",
       "      <th>year</th>\n",
       "      <th>Count</th>\n",
       "      <th>PredictionMean</th>\n",
       "    </tr>\n",
       "    <tr>\n",
       "      <th>year</th>\n",
       "      <th></th>\n",
       "      <th></th>\n",
       "      <th></th>\n",
       "    </tr>\n",
       "  </thead>\n",
       "  <tbody>\n",
       "    <tr>\n",
       "      <th>1867-01</th>\n",
       "      <td>1867-01-01</td>\n",
       "      <td>2203.0</td>\n",
       "      <td>2136.266667</td>\n",
       "    </tr>\n",
       "    <tr>\n",
       "      <th>1868-01</th>\n",
       "      <td>1868-01-01</td>\n",
       "      <td>2360.0</td>\n",
       "      <td>2136.266667</td>\n",
       "    </tr>\n",
       "    <tr>\n",
       "      <th>1869-01</th>\n",
       "      <td>1869-01-01</td>\n",
       "      <td>2254.0</td>\n",
       "      <td>2136.266667</td>\n",
       "    </tr>\n",
       "    <tr>\n",
       "      <th>1870-01</th>\n",
       "      <td>1870-01-01</td>\n",
       "      <td>2165.0</td>\n",
       "      <td>2136.266667</td>\n",
       "    </tr>\n",
       "    <tr>\n",
       "      <th>1871-01</th>\n",
       "      <td>1871-01-01</td>\n",
       "      <td>2024.0</td>\n",
       "      <td>2136.266667</td>\n",
       "    </tr>\n",
       "  </tbody>\n",
       "</table>\n",
       "</div>"
      ],
      "text/plain": [
       "              year   Count  PredictionMean\n",
       "year                                      \n",
       "1867-01 1867-01-01  2203.0     2136.266667\n",
       "1868-01 1868-01-01  2360.0     2136.266667\n",
       "1869-01 1869-01-01  2254.0     2136.266667\n",
       "1870-01 1870-01-01  2165.0     2136.266667\n",
       "1871-01 1871-01-01  2024.0     2136.266667"
      ]
     },
     "execution_count": 65,
     "metadata": {},
     "output_type": "execute_result"
    }
   ],
   "source": [
    "#first model: Mean model\n",
    "mean_model = train_v.Count.mean()\n",
    "\n",
    "#let's store this as prediction value\n",
    "train_v['PredictionMean'] = mean_model\n",
    "train_v.head()"
   ]
  },
  {
   "cell_type": "code",
   "execution_count": 66,
   "metadata": {},
   "outputs": [
    {
     "data": {
      "text/plain": [
       "<matplotlib.axes._subplots.AxesSubplot at 0x1c16339da0>"
      ]
     },
     "execution_count": 66,
     "metadata": {},
     "output_type": "execute_result"
    },
    {
     "data": {
      "image/png": "[encoded data removed]",
      "text/plain": [
       "<matplotlib.figure.Figure at 0x1c16343b70>"
      ]
     },
     "metadata": {},
     "output_type": "display_data"
    }
   ],
   "source": [
    "#Let's plot out the Prediction mean values over the true values\n",
    "train_v.plot(kind=\"line\", x = \"year\", y = [\"Count\",\"PredictionMean\"])"
   ]
  },
  {
   "cell_type": "code",
   "execution_count": 67,
   "metadata": {
    "collapsed": true
   },
   "outputs": [],
   "source": [
    "#Calculate root mean squared error\n",
    "#Calculate error values\n",
    "\n",
    "def RMSE(pred, real):\n",
    "    mse = (pred - real)**2\n",
    "    rmse = np.sqrt(mse.sum()/mse.count())\n",
    "    return rmse"
   ]
  },
  {
   "cell_type": "code",
   "execution_count": 68,
   "metadata": {},
   "outputs": [
    {
     "data": {
      "text/plain": [
       "135.97914872835796"
      ]
     },
     "execution_count": 68,
     "metadata": {},
     "output_type": "execute_result"
    }
   ],
   "source": [
    "#Let's call RMSE() and let's calulate the RMSE of prediction mean model\n",
    "RMSE_mean_model = RMSE(train_v.PredictionMean, train_v.Count)\n",
    "RMSE_mean_model"
   ]
  },
  {
   "cell_type": "code",
   "execution_count": 69,
   "metadata": {},
   "outputs": [
    {
     "data": {
      "text/html": [
       "<div>\n",
       "<style>\n",
       "    .dataframe thead tr:only-child th {\n",
       "        text-align: right;\n",
       "    }\n",
       "\n",
       "    .dataframe thead th {\n",
       "        text-align: left;\n",
       "    }\n",
       "\n",
       "    .dataframe tbody tr th {\n",
       "        vertical-align: top;\n",
       "    }\n",
       "</style>\n",
       "<table border=\"1\" class=\"dataframe\">\n",
       "  <thead>\n",
       "    <tr style=\"text-align: right;\">\n",
       "      <th></th>\n",
       "      <th>Model</th>\n",
       "      <th>Forecast</th>\n",
       "      <th>RMSE</th>\n",
       "    </tr>\n",
       "  </thead>\n",
       "  <tbody>\n",
       "  </tbody>\n",
       "</table>\n",
       "</div>"
      ],
      "text/plain": [
       "Empty DataFrame\n",
       "Columns: [Model, Forecast, RMSE]\n",
       "Index: []"
      ]
     },
     "execution_count": 69,
     "metadata": {},
     "output_type": "execute_result"
    }
   ],
   "source": [
    "#It is pretty interesting to create a dataframe in order to stock models evaluation\n",
    "new_model_columns = ['Model', 'Forecast','RMSE']\n",
    "new_model_df = pd.DataFrame(columns = new_model_columns)\n",
    "new_model_df.head()"
   ]
  },
  {
   "cell_type": "code",
   "execution_count": 70,
   "metadata": {},
   "outputs": [
    {
     "data": {
      "text/html": [
       "<div>\n",
       "<style>\n",
       "    .dataframe thead tr:only-child th {\n",
       "        text-align: right;\n",
       "    }\n",
       "\n",
       "    .dataframe thead th {\n",
       "        text-align: left;\n",
       "    }\n",
       "\n",
       "    .dataframe tbody tr th {\n",
       "        vertical-align: top;\n",
       "    }\n",
       "</style>\n",
       "<table border=\"1\" class=\"dataframe\">\n",
       "  <thead>\n",
       "    <tr style=\"text-align: right;\">\n",
       "      <th></th>\n",
       "      <th>Model</th>\n",
       "      <th>Forecast</th>\n",
       "      <th>RMSE</th>\n",
       "    </tr>\n",
       "  </thead>\n",
       "  <tbody>\n",
       "    <tr>\n",
       "      <th>0</th>\n",
       "      <td>Mean</td>\n",
       "      <td>2136.27</td>\n",
       "      <td>135.979</td>\n",
       "    </tr>\n",
       "  </tbody>\n",
       "</table>\n",
       "</div>"
      ],
      "text/plain": [
       "  Model Forecast     RMSE\n",
       "0  Mean  2136.27  135.979"
      ]
     },
     "execution_count": 70,
     "metadata": {},
     "output_type": "execute_result"
    }
   ],
   "source": [
    "#Let's feed up the dataframe with prediction mean scoring\n",
    "new_model_df.loc[0, 'Model'] = 'Mean'\n",
    "new_model_df.loc[0, 'Forecast'] = mean_model\n",
    "new_model_df.loc[0, 'RMSE'] = RMSE_mean_model\n",
    "\n",
    "new_model_df.head()"
   ]
  },
  {
   "cell_type": "code",
   "execution_count": 71,
   "metadata": {},
   "outputs": [
    {
     "data": {
      "text/html": [
       "<div>\n",
       "<style>\n",
       "    .dataframe thead tr:only-child th {\n",
       "        text-align: right;\n",
       "    }\n",
       "\n",
       "    .dataframe thead th {\n",
       "        text-align: left;\n",
       "    }\n",
       "\n",
       "    .dataframe tbody tr th {\n",
       "        vertical-align: top;\n",
       "    }\n",
       "</style>\n",
       "<table border=\"1\" class=\"dataframe\">\n",
       "  <thead>\n",
       "    <tr style=\"text-align: right;\">\n",
       "      <th></th>\n",
       "      <th>year</th>\n",
       "      <th>Count</th>\n",
       "      <th>PredictionMean</th>\n",
       "    </tr>\n",
       "    <tr>\n",
       "      <th>year</th>\n",
       "      <th></th>\n",
       "      <th></th>\n",
       "      <th></th>\n",
       "    </tr>\n",
       "  </thead>\n",
       "  <tbody>\n",
       "    <tr>\n",
       "      <th>1867-01</th>\n",
       "      <td>1867-01-01</td>\n",
       "      <td>2203.0</td>\n",
       "      <td>2136.266667</td>\n",
       "    </tr>\n",
       "    <tr>\n",
       "      <th>1868-01</th>\n",
       "      <td>1868-01-01</td>\n",
       "      <td>2360.0</td>\n",
       "      <td>2136.266667</td>\n",
       "    </tr>\n",
       "    <tr>\n",
       "      <th>1869-01</th>\n",
       "      <td>1869-01-01</td>\n",
       "      <td>2254.0</td>\n",
       "      <td>2136.266667</td>\n",
       "    </tr>\n",
       "    <tr>\n",
       "      <th>1870-01</th>\n",
       "      <td>1870-01-01</td>\n",
       "      <td>2165.0</td>\n",
       "      <td>2136.266667</td>\n",
       "    </tr>\n",
       "    <tr>\n",
       "      <th>1871-01</th>\n",
       "      <td>1871-01-01</td>\n",
       "      <td>2024.0</td>\n",
       "      <td>2136.266667</td>\n",
       "    </tr>\n",
       "  </tbody>\n",
       "</table>\n",
       "</div>"
      ],
      "text/plain": [
       "              year   Count  PredictionMean\n",
       "year                                      \n",
       "1867-01 1867-01-01  2203.0     2136.266667\n",
       "1868-01 1868-01-01  2360.0     2136.266667\n",
       "1869-01 1869-01-01  2254.0     2136.266667\n",
       "1870-01 1870-01-01  2165.0     2136.266667\n",
       "1871-01 1871-01-01  2024.0     2136.266667"
      ]
     },
     "execution_count": 71,
     "metadata": {},
     "output_type": "execute_result"
    }
   ],
   "source": [
    "train_v.head()"
   ]
  },
  {
   "cell_type": "code",
   "execution_count": 72,
   "metadata": {},
   "outputs": [
    {
     "data": {
      "text/plain": [
       "Timestamp('1867-01-01 00:00:00')"
      ]
     },
     "execution_count": 72,
     "metadata": {},
     "output_type": "execute_result"
    }
   ],
   "source": [
    "train_v.year.min()"
   ]
  },
  {
   "cell_type": "code",
   "execution_count": 73,
   "metadata": {},
   "outputs": [
    {
     "data": {
      "text/plain": [
       "year               datetime64[ns]\n",
       "Count                     float64\n",
       "PredictionMean            float64\n",
       "YearIndex         timedelta64[ns]\n",
       "dtype: object"
      ]
     },
     "execution_count": 73,
     "metadata": {},
     "output_type": "execute_result"
    }
   ],
   "source": [
    "#The year index will allow us to visualize two different models by using an index as a result of the difference between Year and the minimum year\n",
    "train_v['YearIndex'] = train_v.year - train_v.year.min()\n",
    "train_v.dtypes"
   ]
  },
  {
   "cell_type": "code",
   "execution_count": 74,
   "metadata": {},
   "outputs": [],
   "source": [
    "#Here we transform the YearIndex values in order to have the delta\n",
    "train_v['YearIndex'] = train_v['YearIndex']/np.timedelta64(1, 'M')"
   ]
  },
  {
   "cell_type": "code",
   "execution_count": 75,
   "metadata": {},
   "outputs": [
    {
     "data": {
      "text/html": [
       "<div>\n",
       "<style>\n",
       "    .dataframe thead tr:only-child th {\n",
       "        text-align: right;\n",
       "    }\n",
       "\n",
       "    .dataframe thead th {\n",
       "        text-align: left;\n",
       "    }\n",
       "\n",
       "    .dataframe tbody tr th {\n",
       "        vertical-align: top;\n",
       "    }\n",
       "</style>\n",
       "<table border=\"1\" class=\"dataframe\">\n",
       "  <thead>\n",
       "    <tr style=\"text-align: right;\">\n",
       "      <th></th>\n",
       "      <th>year</th>\n",
       "      <th>Count</th>\n",
       "      <th>PredictionMean</th>\n",
       "      <th>YearIndex</th>\n",
       "    </tr>\n",
       "    <tr>\n",
       "      <th>year</th>\n",
       "      <th></th>\n",
       "      <th></th>\n",
       "      <th></th>\n",
       "      <th></th>\n",
       "    </tr>\n",
       "  </thead>\n",
       "  <tbody>\n",
       "    <tr>\n",
       "      <th>1867-01</th>\n",
       "      <td>1867-01-01</td>\n",
       "      <td>2203.0</td>\n",
       "      <td>2136.266667</td>\n",
       "      <td>0.000000</td>\n",
       "    </tr>\n",
       "    <tr>\n",
       "      <th>1868-01</th>\n",
       "      <td>1868-01-01</td>\n",
       "      <td>2360.0</td>\n",
       "      <td>2136.266667</td>\n",
       "      <td>11.992033</td>\n",
       "    </tr>\n",
       "    <tr>\n",
       "      <th>1869-01</th>\n",
       "      <td>1869-01-01</td>\n",
       "      <td>2254.0</td>\n",
       "      <td>2136.266667</td>\n",
       "      <td>24.016920</td>\n",
       "    </tr>\n",
       "    <tr>\n",
       "      <th>1870-01</th>\n",
       "      <td>1870-01-01</td>\n",
       "      <td>2165.0</td>\n",
       "      <td>2136.266667</td>\n",
       "      <td>36.008953</td>\n",
       "    </tr>\n",
       "    <tr>\n",
       "      <th>1871-01</th>\n",
       "      <td>1871-01-01</td>\n",
       "      <td>2024.0</td>\n",
       "      <td>2136.266667</td>\n",
       "      <td>48.000986</td>\n",
       "    </tr>\n",
       "  </tbody>\n",
       "</table>\n",
       "</div>"
      ],
      "text/plain": [
       "              year   Count  PredictionMean  YearIndex\n",
       "year                                                 \n",
       "1867-01 1867-01-01  2203.0     2136.266667   0.000000\n",
       "1868-01 1868-01-01  2360.0     2136.266667  11.992033\n",
       "1869-01 1869-01-01  2254.0     2136.266667  24.016920\n",
       "1870-01 1870-01-01  2165.0     2136.266667  36.008953\n",
       "1871-01 1871-01-01  2024.0     2136.266667  48.000986"
      ]
     },
     "execution_count": 75,
     "metadata": {},
     "output_type": "execute_result"
    }
   ],
   "source": [
    "train_v.head()"
   ]
  },
  {
   "cell_type": "code",
   "execution_count": 76,
   "metadata": {},
   "outputs": [
    {
     "name": "stderr",
     "output_type": "stream",
     "text": [
      "/anaconda3/lib/python3.6/site-packages/scipy/stats/stats.py:1334: UserWarning: kurtosistest only valid for n>=20 ... continuing anyway, n=15\n",
      "  \"anyway, n=%i\" % int(n))\n"
     ]
    },
    {
     "data": {
      "text/html": [
       "<table class=\"simpletable\">\n",
       "<caption>OLS Regression Results</caption>\n",
       "<tr>\n",
       "  <th>Dep. Variable:</th>          <td>Count</td>      <th>  R-squared:         </th> <td>   0.421</td>\n",
       "</tr>\n",
       "<tr>\n",
       "  <th>Model:</th>                   <td>OLS</td>       <th>  Adj. R-squared:    </th> <td>   0.376</td>\n",
       "</tr>\n",
       "<tr>\n",
       "  <th>Method:</th>             <td>Least Squares</td>  <th>  F-statistic:       </th> <td>   9.453</td>\n",
       "</tr>\n",
       "<tr>\n",
       "  <th>Date:</th>             <td>Fri, 14 Dec 2018</td> <th>  Prob (F-statistic):</th>  <td>0.00887</td>\n",
       "</tr>\n",
       "<tr>\n",
       "  <th>Time:</th>                 <td>14:14:41</td>     <th>  Log-Likelihood:    </th> <td> -90.873</td>\n",
       "</tr>\n",
       "<tr>\n",
       "  <th>No. Observations:</th>      <td>    15</td>      <th>  AIC:               </th> <td>   185.7</td>\n",
       "</tr>\n",
       "<tr>\n",
       "  <th>Df Residuals:</th>          <td>    13</td>      <th>  BIC:               </th> <td>   187.2</td>\n",
       "</tr>\n",
       "<tr>\n",
       "  <th>Df Model:</th>              <td>     1</td>      <th>                     </th>     <td> </td>   \n",
       "</tr>\n",
       "<tr>\n",
       "  <th>Covariance Type:</th>      <td>nonrobust</td>    <th>                     </th>     <td> </td>   \n",
       "</tr>\n",
       "</table>\n",
       "<table class=\"simpletable\">\n",
       "<tr>\n",
       "      <td></td>         <th>coef</th>     <th>std err</th>      <th>t</th>      <th>P>|t|</th>  <th>[0.025</th>    <th>0.975]</th>  \n",
       "</tr>\n",
       "<tr>\n",
       "  <th>Intercept</th> <td> 2279.2198</td> <td>   54.639</td> <td>   41.715</td> <td> 0.000</td> <td> 2161.180</td> <td> 2397.259</td>\n",
       "</tr>\n",
       "<tr>\n",
       "  <th>YearIndex</th> <td>   -1.7017</td> <td>    0.553</td> <td>   -3.075</td> <td> 0.009</td> <td>   -2.897</td> <td>   -0.506</td>\n",
       "</tr>\n",
       "</table>\n",
       "<table class=\"simpletable\">\n",
       "<tr>\n",
       "  <th>Omnibus:</th>       <td> 1.225</td> <th>  Durbin-Watson:     </th> <td>   0.968</td>\n",
       "</tr>\n",
       "<tr>\n",
       "  <th>Prob(Omnibus):</th> <td> 0.542</td> <th>  Jarque-Bera (JB):  </th> <td>   1.040</td>\n",
       "</tr>\n",
       "<tr>\n",
       "  <th>Skew:</th>          <td>-0.522</td> <th>  Prob(JB):          </th> <td>   0.594</td>\n",
       "</tr>\n",
       "<tr>\n",
       "  <th>Kurtosis:</th>      <td> 2.242</td> <th>  Cond. No.          </th> <td>    188.</td>\n",
       "</tr>\n",
       "</table>"
      ],
      "text/plain": [
       "<class 'statsmodels.iolib.summary.Summary'>\n",
       "\"\"\"\n",
       "                            OLS Regression Results                            \n",
       "==============================================================================\n",
       "Dep. Variable:                  Count   R-squared:                       0.421\n",
       "Model:                            OLS   Adj. R-squared:                  0.376\n",
       "Method:                 Least Squares   F-statistic:                     9.453\n",
       "Date:                Fri, 14 Dec 2018   Prob (F-statistic):            0.00887\n",
       "Time:                        14:14:41   Log-Likelihood:                -90.873\n",
       "No. Observations:                  15   AIC:                             185.7\n",
       "Df Residuals:                      13   BIC:                             187.2\n",
       "Df Model:                           1                                         \n",
       "Covariance Type:            nonrobust                                         \n",
       "==============================================================================\n",
       "                 coef    std err          t      P>|t|      [0.025      0.975]\n",
       "------------------------------------------------------------------------------\n",
       "Intercept   2279.2198     54.639     41.715      0.000    2161.180    2397.259\n",
       "YearIndex     -1.7017      0.553     -3.075      0.009      -2.897      -0.506\n",
       "==============================================================================\n",
       "Omnibus:                        1.225   Durbin-Watson:                   0.968\n",
       "Prob(Omnibus):                  0.542   Jarque-Bera (JB):                1.040\n",
       "Skew:                          -0.522   Prob(JB):                        0.594\n",
       "Kurtosis:                       2.242   Cond. No.                         188.\n",
       "==============================================================================\n",
       "\n",
       "Warnings:\n",
       "[1] Standard Errors assume that the covariance matrix of the errors is correctly specified.\n",
       "\"\"\""
      ]
     },
     "execution_count": 76,
     "metadata": {},
     "output_type": "execute_result"
    }
   ],
   "source": [
    "#plotting linear regression count and YearIndex\n",
    "LR_model = smf.ols('Count ~ YearIndex', data = train_v).fit()\n",
    "\n",
    "#Let's have a look on OLS linear regression results\n",
    "LR_model.summary()"
   ]
  },
  {
   "cell_type": "code",
   "execution_count": 77,
   "metadata": {},
   "outputs": [
    {
     "data": {
      "text/plain": [
       "Intercept    2279.219782\n",
       "YearIndex      -1.701710\n",
       "dtype: float64"
      ]
     },
     "execution_count": 77,
     "metadata": {},
     "output_type": "execute_result"
    }
   ],
   "source": [
    "#Print out the linear regression parameters\n",
    "LR_model.params"
   ]
  },
  {
   "cell_type": "code",
   "execution_count": 78,
   "metadata": {
    "collapsed": true
   },
   "outputs": [],
   "source": [
    "#Let's stock both parameters on new variables in order to use them later to calculate the model forecasting\n",
    "m = LR_model.params[0]\n",
    "c = LR_model.params[1]"
   ]
  },
  {
   "cell_type": "code",
   "execution_count": 79,
   "metadata": {},
   "outputs": [
    {
     "data": {
      "text/plain": [
       "array([2279.21978177, 2258.81281738, 2238.3499435 , 2217.94297911,\n",
       "       2197.53601473, 2177.12905034, 2156.66617646, 2136.25921207,\n",
       "       2115.85224768, 2095.44528329, 2074.98240941, 2054.57544502,\n",
       "       2034.16848063, 2013.76151624, 1993.29864236])"
      ]
     },
     "execution_count": 79,
     "metadata": {},
     "output_type": "execute_result"
    }
   ],
   "source": [
    "#Let's get an overview over the predictions we have\n",
    "LR_model_pred = LR_model.predict()\n",
    "LR_model_pred"
   ]
  },
  {
   "cell_type": "code",
   "execution_count": 80,
   "metadata": {},
   "outputs": [
    {
     "data": {
      "text/plain": [
       "[<matplotlib.lines.Line2D at 0x1c16430ac8>]"
      ]
     },
     "execution_count": 80,
     "metadata": {},
     "output_type": "execute_result"
    },
    {
     "data": {
      "image/png": "[encoded data removed]",
      "text/plain": [
       "<matplotlib.figure.Figure at 0x1c16430ba8>"
      ]
     },
     "metadata": {},
     "output_type": "display_data"
    }
   ],
   "source": [
    "#Plotting out the reality and our predictions is interesting because this would allow us to understand how our model is performing\n",
    "train_v.plot(kind='line', x = 'YearIndex', y = 'Count')\n",
    "plt.plot(train_v.YearIndex, LR_model_pred, '-')"
   ]
  },
  {
   "cell_type": "code",
   "execution_count": 81,
   "metadata": {},
   "outputs": [
    {
     "data": {
      "text/plain": [
       "<matplotlib.axes._subplots.AxesSubplot at 0x1c16430588>"
      ]
     },
     "execution_count": 81,
     "metadata": {},
     "output_type": "execute_result"
    },
    {
     "data": {
      "image/png": "[encoded data removed]",
      "text/plain": [
       "<matplotlib.figure.Figure at 0x1c16529dd8>"
      ]
     },
     "metadata": {},
     "output_type": "display_data"
    }
   ],
   "source": [
    "#The residual plot is very interesting in order to measure a linear regression model performance\n",
    "LR_model.resid.plot(kind='bar')"
   ]
  },
  {
   "cell_type": "code",
   "execution_count": 82,
   "metadata": {},
   "outputs": [
    {
     "data": {
      "text/html": [
       "<div>\n",
       "<style>\n",
       "    .dataframe thead tr:only-child th {\n",
       "        text-align: right;\n",
       "    }\n",
       "\n",
       "    .dataframe thead th {\n",
       "        text-align: left;\n",
       "    }\n",
       "\n",
       "    .dataframe tbody tr th {\n",
       "        vertical-align: top;\n",
       "    }\n",
       "</style>\n",
       "<table border=\"1\" class=\"dataframe\">\n",
       "  <thead>\n",
       "    <tr style=\"text-align: right;\">\n",
       "      <th></th>\n",
       "      <th>year</th>\n",
       "      <th>Count</th>\n",
       "      <th>PredictionMean</th>\n",
       "      <th>YearIndex</th>\n",
       "      <th>LinearCount</th>\n",
       "    </tr>\n",
       "    <tr>\n",
       "      <th>year</th>\n",
       "      <th></th>\n",
       "      <th></th>\n",
       "      <th></th>\n",
       "      <th></th>\n",
       "      <th></th>\n",
       "    </tr>\n",
       "  </thead>\n",
       "  <tbody>\n",
       "    <tr>\n",
       "      <th>1867-01</th>\n",
       "      <td>1867-01-01</td>\n",
       "      <td>2203.0</td>\n",
       "      <td>2136.266667</td>\n",
       "      <td>0.000000</td>\n",
       "      <td>2279.219782</td>\n",
       "    </tr>\n",
       "    <tr>\n",
       "      <th>1868-01</th>\n",
       "      <td>1868-01-01</td>\n",
       "      <td>2360.0</td>\n",
       "      <td>2136.266667</td>\n",
       "      <td>11.992033</td>\n",
       "      <td>2258.812817</td>\n",
       "    </tr>\n",
       "    <tr>\n",
       "      <th>1869-01</th>\n",
       "      <td>1869-01-01</td>\n",
       "      <td>2254.0</td>\n",
       "      <td>2136.266667</td>\n",
       "      <td>24.016920</td>\n",
       "      <td>2238.349944</td>\n",
       "    </tr>\n",
       "    <tr>\n",
       "      <th>1870-01</th>\n",
       "      <td>1870-01-01</td>\n",
       "      <td>2165.0</td>\n",
       "      <td>2136.266667</td>\n",
       "      <td>36.008953</td>\n",
       "      <td>2217.942979</td>\n",
       "    </tr>\n",
       "    <tr>\n",
       "      <th>1871-01</th>\n",
       "      <td>1871-01-01</td>\n",
       "      <td>2024.0</td>\n",
       "      <td>2136.266667</td>\n",
       "      <td>48.000986</td>\n",
       "      <td>2197.536015</td>\n",
       "    </tr>\n",
       "  </tbody>\n",
       "</table>\n",
       "</div>"
      ],
      "text/plain": [
       "              year   Count  PredictionMean  YearIndex  LinearCount\n",
       "year                                                              \n",
       "1867-01 1867-01-01  2203.0     2136.266667   0.000000  2279.219782\n",
       "1868-01 1868-01-01  2360.0     2136.266667  11.992033  2258.812817\n",
       "1869-01 1869-01-01  2254.0     2136.266667  24.016920  2238.349944\n",
       "1870-01 1870-01-01  2165.0     2136.266667  36.008953  2217.942979\n",
       "1871-01 1871-01-01  2024.0     2136.266667  48.000986  2197.536015"
      ]
     },
     "execution_count": 82,
     "metadata": {},
     "output_type": "execute_result"
    }
   ],
   "source": [
    "#We create a new column in our train dataset and feed it up with the linear regression values\n",
    "train_v['LinearCount'] = LR_model_pred\n",
    "train_v.head()"
   ]
  },
  {
   "cell_type": "code",
   "execution_count": 83,
   "metadata": {},
   "outputs": [
    {
     "data": {
      "text/plain": [
       "103.46857851580641"
      ]
     },
     "execution_count": 83,
     "metadata": {},
     "output_type": "execute_result"
    }
   ],
   "source": [
    "#as we did earlier we must to apply RMSE() function to have the linear regression model scoring\n",
    "RMSE_LR = RMSE(train_v.LinearCount, train_v.Count)\n",
    "RMSE_LR"
   ]
  },
  {
   "cell_type": "code",
   "execution_count": 84,
   "metadata": {
    "collapsed": true
   },
   "outputs": [],
   "source": [
    "#Now we can use the linear regression model parameters we stocked previously in order to have the forecast\n",
    "forecast_LR_model_pred = m * 15 + c"
   ]
  },
  {
   "cell_type": "code",
   "execution_count": 85,
   "metadata": {},
   "outputs": [
    {
     "data": {
      "text/html": [
       "<div>\n",
       "<style>\n",
       "    .dataframe thead tr:only-child th {\n",
       "        text-align: right;\n",
       "    }\n",
       "\n",
       "    .dataframe thead th {\n",
       "        text-align: left;\n",
       "    }\n",
       "\n",
       "    .dataframe tbody tr th {\n",
       "        vertical-align: top;\n",
       "    }\n",
       "</style>\n",
       "<table border=\"1\" class=\"dataframe\">\n",
       "  <thead>\n",
       "    <tr style=\"text-align: right;\">\n",
       "      <th></th>\n",
       "      <th>Model</th>\n",
       "      <th>Forecast</th>\n",
       "      <th>RMSE</th>\n",
       "    </tr>\n",
       "  </thead>\n",
       "  <tbody>\n",
       "    <tr>\n",
       "      <th>0</th>\n",
       "      <td>Mean</td>\n",
       "      <td>2136.27</td>\n",
       "      <td>135.979</td>\n",
       "    </tr>\n",
       "    <tr>\n",
       "      <th>1</th>\n",
       "      <td>LR</td>\n",
       "      <td>34186.6</td>\n",
       "      <td>103.469</td>\n",
       "    </tr>\n",
       "  </tbody>\n",
       "</table>\n",
       "</div>"
      ],
      "text/plain": [
       "  Model Forecast     RMSE\n",
       "0  Mean  2136.27  135.979\n",
       "1    LR  34186.6  103.469"
      ]
     },
     "execution_count": 85,
     "metadata": {},
     "output_type": "execute_result"
    }
   ],
   "source": [
    "#Finally we update the dataframe with the linear regression model results\n",
    "new_model_df.loc[1, 'Model'] = 'LR'\n",
    "new_model_df.loc[1, 'Forecast'] = forecast_LR_model_pred\n",
    "new_model_df.loc[1, 'RMSE'] = RMSE_LR\n",
    "\n",
    "new_model_df.head()"
   ]
  }
 ],
 "metadata": {
  "kernelspec": {
   "display_name": "Python 3",
   "language": "python",
   "name": "python3"
  },
  "language_info": {
   "codemirror_mode": {
    "name": "ipython",
    "version": 3
   },
   "file_extension": ".py",
   "mimetype": "text/x-python",
   "name": "python",
   "nbconvert_exporter": "python",
   "pygments_lexer": "ipython3",
   "version": "3.6.3"
  }
 },
 "nbformat": 4,
 "nbformat_minor": 2
}
